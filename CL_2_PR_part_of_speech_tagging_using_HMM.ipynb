{
  "nbformat": 4,
  "nbformat_minor": 0,
  "metadata": {
    "colab": {
      "provenance": [],
      "authorship_tag": "ABX9TyOp/JPhyeGBLWVkQH7LzMqs",
      "include_colab_link": true
    },
    "kernelspec": {
      "name": "python3",
      "display_name": "Python 3"
    },
    "language_info": {
      "name": "python"
    }
  },
  "cells": [
    {
      "cell_type": "markdown",
      "metadata": {
        "id": "view-in-github",
        "colab_type": "text"
      },
      "source": [
        "<a href=\"https://colab.research.google.com/github/truptiwagh13/CL-PR-Codes/blob/main/CL_2_PR_part_of_speech_tagging_using_HMM.ipynb\" target=\"_parent\"><img src=\"https://colab.research.google.com/assets/colab-badge.svg\" alt=\"Open In Colab\"/></a>"
      ]
    },
    {
      "cell_type": "code",
      "execution_count": 2,
      "metadata": {
        "colab": {
          "base_uri": "https://localhost:8080/"
        },
        "id": "xcsHR5t-WnhE",
        "outputId": "e619ea40-f4a2-4854-f3b8-cf2be2a8d147"
      },
      "outputs": [
        {
          "output_type": "stream",
          "name": "stdout",
          "text": [
            "Looking in indexes: https://pypi.org/simple, https://us-python.pkg.dev/colab-wheels/public/simple/\n",
            "Collecting pomegranate\n",
            "  Downloading pomegranate-0.14.8.tar.gz (4.3 MB)\n",
            "\u001b[2K     \u001b[90m━━━━━━━━━━━━━━━━━━━━━━━━━━━━━━━━━━━━━━━━\u001b[0m \u001b[32m4.3/4.3 MB\u001b[0m \u001b[31m21.1 MB/s\u001b[0m eta \u001b[36m0:00:00\u001b[0m\n",
            "\u001b[?25h  Installing build dependencies ... \u001b[?25l\u001b[?25hdone\n",
            "  Getting requirements to build wheel ... \u001b[?25l\u001b[?25hdone\n",
            "  Preparing metadata (pyproject.toml) ... \u001b[?25l\u001b[?25hdone\n",
            "Requirement already satisfied: scipy>=0.17.0 in /usr/local/lib/python3.9/dist-packages (from pomegranate) (1.10.1)\n",
            "Requirement already satisfied: networkx>=2.4 in /usr/local/lib/python3.9/dist-packages (from pomegranate) (3.0)\n",
            "Requirement already satisfied: joblib>=0.9.0b4 in /usr/local/lib/python3.9/dist-packages (from pomegranate) (1.1.1)\n",
            "Requirement already satisfied: pyyaml in /usr/local/lib/python3.9/dist-packages (from pomegranate) (6.0)\n",
            "Requirement already satisfied: numpy>=1.20.0 in /usr/local/lib/python3.9/dist-packages (from pomegranate) (1.22.4)\n",
            "Building wheels for collected packages: pomegranate\n",
            "  Building wheel for pomegranate (pyproject.toml) ... \u001b[?25l\u001b[?25hdone\n",
            "  Created wheel for pomegranate: filename=pomegranate-0.14.8-cp39-cp39-linux_x86_64.whl size=20651757 sha256=54af2ffa94eb304a45c06cc364b1bba13b5af5027bb03288f9f930035de6fde0\n",
            "  Stored in directory: /root/.cache/pip/wheels/32/d5/06/60c731fe8251f1ac8b79205e3f8009c551813b06805bb35370\n",
            "Successfully built pomegranate\n",
            "Installing collected packages: pomegranate\n",
            "Successfully installed pomegranate-0.14.8\n"
          ]
        }
      ],
      "source": [
        "#Importing the libraries\n",
        "!pip install pomegranate\n",
        "import numpy as np\n",
        "import re\n",
        "import pomegranate"
      ]
    },
    {
      "cell_type": "code",
      "source": [],
      "metadata": {
        "id": "-h9u0bfkWqVx"
      },
      "execution_count": null,
      "outputs": []
    },
    {
      "cell_type": "code",
      "source": [
        "#Initialize the Hidden Markov Model (HMM)\n",
        "model=pomegranate.HiddenMarkovModel()"
      ],
      "metadata": {
        "id": "FeRlTs6pit2e"
      },
      "execution_count": 36,
      "outputs": []
    },
    {
      "cell_type": "code",
      "source": [
        "###Emission probabilities\n",
        "#\"Noun\" emission and state\n",
        "emission_noun=pomegranate.DiscreteDistribution({\"mary\":4/9,\n",
        "                                                \"jane\":2/9,\n",
        "                                                \"will\":1/9,\n",
        "                                                \"spot\":2/9,\n",
        "                                                \"can\":0,\n",
        "                                                \"see\":0,\n",
        "                                                \"pat\":0})\n",
        "state_noun=pomegranate.State(emission_noun,name=\"noun\")"
      ],
      "metadata": {
        "id": "G_EzQ4e_i-42"
      },
      "execution_count": 37,
      "outputs": []
    },
    {
      "cell_type": "code",
      "source": [
        "emission_model=pomegranate.DiscreteDistribution({\"mary\":0,\n",
        "                                                \"jane\":0,\n",
        "                                                \"will\":3/4,\n",
        "                                                \"spot\":0,\n",
        "                                                \"can\":1/4,\n",
        "                                                \"see\":0,\n",
        "                                                \"pat\":0})\n",
        "state_model=pomegranate.State(emission_noun,name=\"model\")"
      ],
      "metadata": {
        "id": "USQnkY3hj8Gn"
      },
      "execution_count": 38,
      "outputs": []
    },
    {
      "cell_type": "code",
      "source": [
        "emission_verb=pomegranate.DiscreteDistribution({\"mary\":0,\n",
        "                                                \"jane\":0,\n",
        "                                                \"will\":0,\n",
        "                                                \"spot\":1/4,\n",
        "                                                \"can\":0,\n",
        "                                                \"see\":1/2,\n",
        "                                                \"pat\":1/4})\n",
        "state_verb=pomegranate.State(emission_noun,name=\"verb\")"
      ],
      "metadata": {
        "id": "KeNrOZ2TkQwH"
      },
      "execution_count": 39,
      "outputs": []
    },
    {
      "cell_type": "code",
      "source": [
        "#Add the states into our HMM model\n",
        "model.add_states(state_noun,state_model,state_verb)"
      ],
      "metadata": {
        "id": "vwMJOO2pkfD1"
      },
      "execution_count": 40,
      "outputs": []
    },
    {
      "cell_type": "code",
      "source": [
        "###Transition probabilities\n",
        "\n",
        "#Transition probabilities from \"<s>\" to \"noun\" ,\"modal\",\"verb\"\n",
        "model.add_transition(model.start,state_noun,3/4)\n",
        "model.add_transition(model.start,state_model,1/4)\n",
        "model.add_transition(model.start,state_verb,0)"
      ],
      "metadata": {
        "id": "0PG9IpgKlOPu"
      },
      "execution_count": 42,
      "outputs": []
    },
    {
      "cell_type": "code",
      "source": [
        "###Transition probabilities\n",
        "\n",
        "#Transition probabilities from \"<s>\" to \"noun\" ,\"modal\",\"verb\"\n",
        "model.add_transition(state_noun,state_noun,1/9)\n",
        "model.add_transition(state_noun,state_model,1/3)\n",
        "model.add_transition(state_noun,state_verb,1/9)"
      ],
      "metadata": {
        "id": "vSPFxQT0lzD2"
      },
      "execution_count": 44,
      "outputs": []
    },
    {
      "cell_type": "code",
      "source": [
        "model.add_transition(state_model,state_noun,1)\n",
        "model.add_transition(state_model,state_model,0)\n",
        "model.add_transition(state_model,state_verb,3/4)"
      ],
      "metadata": {
        "id": "ejGdVF2Sn5Il"
      },
      "execution_count": 45,
      "outputs": []
    },
    {
      "cell_type": "code",
      "source": [
        "model.add_transition(state_verb,state_noun,1)\n",
        "model.add_transition(state_verb,state_model,0)\n",
        "model.add_transition(state_verb,state_verb,0)"
      ],
      "metadata": {
        "id": "WDXhAco6oUW8"
      },
      "execution_count": 46,
      "outputs": []
    },
    {
      "cell_type": "code",
      "source": [
        "model.add_transition(state_noun,model.end,4/9)\n",
        "model.add_transition(state_model,model.end,0)\n",
        "model.add_transition(state_verb,model.end,0)"
      ],
      "metadata": {
        "id": "5Xj8p_CooiUT"
      },
      "execution_count": 47,
      "outputs": []
    },
    {
      "cell_type": "code",
      "source": [
        "model.bake()"
      ],
      "metadata": {
        "id": "CvTuFuZao4Il"
      },
      "execution_count": 48,
      "outputs": []
    },
    {
      "cell_type": "code",
      "source": [
        "print(\"Total number of edges : \",model.edge_count())\n",
        "print(\"total number of states or nodes : \",model.node_count())\n"
      ],
      "metadata": {
        "colab": {
          "base_uri": "https://localhost:8080/"
        },
        "id": "nyz50ff4o6QM",
        "outputId": "5f5ce65d-4e4c-4359-b803-09eea53b7f29"
      },
      "execution_count": 49,
      "outputs": [
        {
          "output_type": "stream",
          "name": "stdout",
          "text": [
            "Total number of edges :  14\n",
            "total number of states or nodes :  5\n"
          ]
        }
      ]
    },
    {
      "cell_type": "code",
      "source": [
        "model.states[-1].name=\"<E>\"\n"
      ],
      "metadata": {
        "id": "FmqvEABdpJFE"
      },
      "execution_count": 50,
      "outputs": []
    },
    {
      "cell_type": "code",
      "source": [
        "model.states[-2].name=\"<S>\""
      ],
      "metadata": {
        "id": "S3SjsHTspg8M"
      },
      "execution_count": 51,
      "outputs": []
    },
    {
      "cell_type": "code",
      "source": [
        "text=\"Jane will spot Will.\""
      ],
      "metadata": {
        "id": "8r5FwDvFpmNr"
      },
      "execution_count": 52,
      "outputs": []
    },
    {
      "cell_type": "code",
      "source": [
        "print(text)"
      ],
      "metadata": {
        "colab": {
          "base_uri": "https://localhost:8080/"
        },
        "id": "Hh4AZNX8pqKk",
        "outputId": "66ec67c4-e8b5-4f9b-9d35-d62d9a1173ee"
      },
      "execution_count": 53,
      "outputs": [
        {
          "output_type": "stream",
          "name": "stdout",
          "text": [
            "Jane will spot Will.\n"
          ]
        }
      ]
    },
    {
      "cell_type": "code",
      "source": [
        "text=text.lower()"
      ],
      "metadata": {
        "id": "ud3Rg-UqprtD"
      },
      "execution_count": 54,
      "outputs": []
    },
    {
      "cell_type": "code",
      "source": [
        "text=re.sub(r\"[^a-zA-Z0-9]\",\" \",text)"
      ],
      "metadata": {
        "id": "5ZhuABq4puwz"
      },
      "execution_count": 55,
      "outputs": []
    },
    {
      "cell_type": "code",
      "source": [
        "text=text.split()"
      ],
      "metadata": {
        "id": "PU-J3fMmp6_7"
      },
      "execution_count": 56,
      "outputs": []
    },
    {
      "cell_type": "code",
      "source": [
        "print(\"preprocessed text :\\n\",text)"
      ],
      "metadata": {
        "colab": {
          "base_uri": "https://localhost:8080/"
        },
        "id": "XLLzlSLAp-GK",
        "outputId": "f1f6efda-9797-4db7-ca07-e08eabbbb783"
      },
      "execution_count": 57,
      "outputs": [
        {
          "output_type": "stream",
          "name": "stdout",
          "text": [
            "preprocessed text :\n",
            " ['jane', 'will', 'spot', 'will']\n"
          ]
        }
      ]
    },
    {
      "cell_type": "code",
      "source": [
        "viterbi_likelihood,viterbi_path=model.viterbi(text)\n",
        "viterbi_path=[i_state[1].name for i_state in viterbi_path]\n",
        "print(\"The most likely sequence :\\n\",viterbi_path,\"\\n\")\n",
        "print(\"preprocessed text:\\n\",text)"
      ],
      "metadata": {
        "colab": {
          "base_uri": "https://localhost:8080/"
        },
        "id": "_0FascnIqDaj",
        "outputId": "b5cef8e1-8dc4-4aa1-feb2-ebdc9ff45521"
      },
      "execution_count": 61,
      "outputs": [
        {
          "output_type": "stream",
          "name": "stdout",
          "text": [
            "The most likely sequence :\n",
            " ['<S>', 'noun', 'model', 'verb', 'noun', '<E>'] \n",
            "\n",
            "preprocessed text:\n",
            " ['jane', 'will', 'spot', 'will']\n"
          ]
        }
      ]
    },
    {
      "cell_type": "code",
      "source": [],
      "metadata": {
        "id": "SO_UApsLqMwa"
      },
      "execution_count": null,
      "outputs": []
    }
  ]
}