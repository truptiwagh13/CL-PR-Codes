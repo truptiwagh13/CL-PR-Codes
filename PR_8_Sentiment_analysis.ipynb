{
  "nbformat": 4,
  "nbformat_minor": 0,
  "metadata": {
    "colab": {
      "provenance": [],
      "authorship_tag": "ABX9TyPNx5GnulREcEN3LO1hGB7H",
      "include_colab_link": true
    },
    "kernelspec": {
      "name": "python3",
      "display_name": "Python 3"
    },
    "language_info": {
      "name": "python"
    }
  },
  "cells": [
    {
      "cell_type": "markdown",
      "metadata": {
        "id": "view-in-github",
        "colab_type": "text"
      },
      "source": [
        "<a href=\"https://colab.research.google.com/github/truptiwagh13/CL-PR-Codes/blob/main/PR_8_Sentiment_analysis.ipynb\" target=\"_parent\"><img src=\"https://colab.research.google.com/assets/colab-badge.svg\" alt=\"Open In Colab\"/></a>"
      ]
    },
    {
      "cell_type": "code",
      "execution_count": 9,
      "metadata": {
        "colab": {
          "base_uri": "https://localhost:8080/"
        },
        "id": "l6HIkvYDQSR6",
        "outputId": "c83b116b-68fa-4cc7-f233-999f601e01e7"
      },
      "outputs": [
        {
          "output_type": "stream",
          "name": "stderr",
          "text": [
            "[nltk_data] Downloading package vader_lexicon to /root/nltk_data...\n"
          ]
        }
      ],
      "source": [
        "import nltk\n",
        "nltk.download('vader_lexicon')\n",
        "from nltk.sentiment.vader import SentimentIntensityAnalyzer"
      ]
    },
    {
      "cell_type": "code",
      "source": [],
      "metadata": {
        "id": "cIrWsPYzQuV2"
      },
      "execution_count": 5,
      "outputs": []
    },
    {
      "cell_type": "code",
      "source": [
        "sia=SentimentIntensityAnalyzer()\n",
        "text=\"I love this product! It works great and I highly recommend it.\"\n",
        "sentiment_scores=sia.polarity_scores(text)\n",
        "print(sentiment_scores)"
      ],
      "metadata": {
        "colab": {
          "base_uri": "https://localhost:8080/"
        },
        "id": "ZaYNJsQwQub-",
        "outputId": "098ab366-ceee-48fd-ef14-a6a1914b4c6e"
      },
      "execution_count": 10,
      "outputs": [
        {
          "output_type": "stream",
          "name": "stdout",
          "text": [
            "{'neg': 0.0, 'neu': 0.381, 'pos': 0.619, 'compound': 0.9078}\n"
          ]
        }
      ]
    },
    {
      "cell_type": "code",
      "source": [
        "x = sentiment_scores.get(\"compound\")\n",
        "print(x)\n",
        "if x==-1:\n",
        "  print(\"Sentiment = extreme negative\")\n",
        "elif x==1:\n",
        "  print(\"Sentiment = extreme positive\")\n",
        "elif x>0:\n",
        "  print(\"Sentiment = positive\")\n",
        "elif x<0:\n",
        "  print(\"negative\")\n",
        "else:\n",
        "  print(\"Sentiment = neutral\")\n"
      ],
      "metadata": {
        "colab": {
          "base_uri": "https://localhost:8080/"
        },
        "id": "3SX7mQAFRLTn",
        "outputId": "bb1452d5-a9c6-4755-fc34-e9642b36fd1e"
      },
      "execution_count": 36,
      "outputs": [
        {
          "output_type": "stream",
          "name": "stdout",
          "text": [
            "0.9078\n",
            "Sentiment = positive\n"
          ]
        }
      ]
    },
    {
      "cell_type": "code",
      "source": [
        " \"\"\"\n",
        " Subjectivity quantifies the amount of personal opinion and factual\\\n",
        " information contained in the text. The higher subjectivity means\n",
        " that the text contains personal opinion rather than factual information\n",
        " \"\"\"\n",
        " from textblob import TextBlob\n",
        " text=\"I don't hate this product! It works bad and I less recommend it.\"\n",
        " #text=\"I love this product! It works great and I highly recommend it\"\n",
        " #text=\"he is a bright student\"\n",
        " blob=TextBlob(text)\n",
        " sentiment1=blob.sentiment\n",
        " print(\"polarity : \",sentiment1.polarity)\n",
        " print(\"subjectivity : \",sentiment1.subjectivity)\n",
        " print(sentiment1)\n"
      ],
      "metadata": {
        "colab": {
          "base_uri": "https://localhost:8080/"
        },
        "id": "weq5HszUSfp3",
        "outputId": "b6fa30ef-6a30-43a1-baac-fd17c4b27463"
      },
      "execution_count": 46,
      "outputs": [
        {
          "output_type": "stream",
          "name": "stdout",
          "text": [
            "polarity :  -0.6222222222222221\n",
            "subjectivity :  0.5444444444444444\n",
            "Sentiment(polarity=-0.6222222222222221, subjectivity=0.5444444444444444)\n"
          ]
        }
      ]
    },
    {
      "cell_type": "code",
      "source": [],
      "metadata": {
        "id": "W3LjMLriaomw"
      },
      "execution_count": null,
      "outputs": []
    }
  ]
}