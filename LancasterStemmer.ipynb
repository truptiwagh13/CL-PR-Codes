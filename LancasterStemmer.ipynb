{
  "cells": [
    {
      "cell_type": "markdown",
      "metadata": {
        "id": "view-in-github",
        "colab_type": "text"
      },
      "source": [
        "<a href=\"https://colab.research.google.com/github/truptiwagh13/CL-PR-Codes/blob/main/LancasterStemmer.ipynb\" target=\"_parent\"><img src=\"https://colab.research.google.com/assets/colab-badge.svg\" alt=\"Open In Colab\"/></a>"
      ]
    },
    {
      "cell_type": "code",
      "execution_count": null,
      "id": "955bc30f",
      "metadata": {
        "id": "955bc30f"
      },
      "outputs": [],
      "source": [
        "import nltk"
      ]
    },
    {
      "cell_type": "code",
      "execution_count": null,
      "id": "35a8001d",
      "metadata": {
        "id": "35a8001d"
      },
      "outputs": [],
      "source": [
        "from nltk.stem import LancasterStemmer"
      ]
    },
    {
      "cell_type": "code",
      "execution_count": null,
      "id": "e3dbc3b4",
      "metadata": {
        "id": "e3dbc3b4"
      },
      "outputs": [],
      "source": [
        "lst=LancasterStemmer()"
      ]
    },
    {
      "cell_type": "code",
      "execution_count": null,
      "id": "c4c5b543",
      "metadata": {
        "id": "c4c5b543"
      },
      "outputs": [],
      "source": [
        "list=[\"playing\",\"chocolate\",\"running\",\"reading\",\"likes\",\"retriver\",\"retrival\",\"retrives\",\"trupti\",\"operator\",\"positive\"]"
      ]
    },
    {
      "cell_type": "code",
      "execution_count": null,
      "id": "134faf6d",
      "metadata": {
        "id": "134faf6d",
        "outputId": "b8f806e3-d519-46a8-c1aa-ffd7bb5a2266"
      },
      "outputs": [
        {
          "name": "stdout",
          "output_type": "stream",
          "text": [
            "playing\n",
            "chocolate\n",
            "running\n",
            "reading\n",
            "likes\n",
            "retriver\n",
            "retrival\n",
            "retrives\n",
            "trupti\n",
            "operator\n",
            "positive\n"
          ]
        }
      ],
      "source": [
        "for i in list:\n",
        "    print(i)"
      ]
    },
    {
      "cell_type": "code",
      "execution_count": null,
      "id": "c0fa770b",
      "metadata": {
        "id": "c0fa770b",
        "outputId": "95c0660c-bb5a-4e48-b7bc-93bb57085ac9"
      },
      "outputs": [
        {
          "name": "stdout",
          "output_type": "stream",
          "text": [
            "playing : play\n",
            "chocolate : chocol\n",
            "running : run\n",
            "reading : read\n",
            "likes : lik\n",
            "retriver : ret\n",
            "retrival : ret\n",
            "retrives : ret\n",
            "trupti : trupt\n",
            "operator : op\n",
            "positive : posit\n"
          ]
        }
      ],
      "source": [
        "for i in list:\n",
        "    print(i,\":\",lst.stem(i))"
      ]
    },
    {
      "cell_type": "code",
      "execution_count": null,
      "id": "d4f3f28b",
      "metadata": {
        "id": "d4f3f28b"
      },
      "outputs": [],
      "source": []
    }
  ],
  "metadata": {
    "kernelspec": {
      "display_name": "Python 3 (ipykernel)",
      "language": "python",
      "name": "python3"
    },
    "language_info": {
      "codemirror_mode": {
        "name": "ipython",
        "version": 3
      },
      "file_extension": ".py",
      "mimetype": "text/x-python",
      "name": "python",
      "nbconvert_exporter": "python",
      "pygments_lexer": "ipython3",
      "version": "3.9.13"
    },
    "colab": {
      "provenance": [],
      "include_colab_link": true
    }
  },
  "nbformat": 4,
  "nbformat_minor": 5
}