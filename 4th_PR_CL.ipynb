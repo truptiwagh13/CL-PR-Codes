{
  "nbformat": 4,
  "nbformat_minor": 0,
  "metadata": {
    "colab": {
      "provenance": [],
      "authorship_tag": "ABX9TyNy/3g+g8JVSvUfR3MnywkQ",
      "include_colab_link": true
    },
    "kernelspec": {
      "name": "python3",
      "display_name": "Python 3"
    },
    "language_info": {
      "name": "python"
    }
  },
  "cells": [
    {
      "cell_type": "markdown",
      "metadata": {
        "id": "view-in-github",
        "colab_type": "text"
      },
      "source": [
        "<a href=\"https://colab.research.google.com/github/truptiwagh13/CL-PR-Codes/blob/main/4th_PR_CL.ipynb\" target=\"_parent\"><img src=\"https://colab.research.google.com/assets/colab-badge.svg\" alt=\"Open In Colab\"/></a>"
      ]
    },
    {
      "cell_type": "code",
      "execution_count": 1,
      "metadata": {
        "colab": {
          "base_uri": "https://localhost:8080/"
        },
        "id": "l-rEDw-SHt05",
        "outputId": "e46794c8-8dbb-4307-d969-0500bb620a1a"
      },
      "outputs": [
        {
          "output_type": "stream",
          "name": "stderr",
          "text": [
            "[nltk_data] Downloading package wordnet to /root/nltk_data...\n",
            "[nltk_data] Downloading package omw-1.4 to /root/nltk_data...\n"
          ]
        }
      ],
      "source": [
        "import nltk\n",
        "nltk.download('wordnet')\n",
        "nltk.download('omw-1.4')\n",
        "from nltk.corpus import wordnet"
      ]
    },
    {
      "cell_type": "code",
      "source": [
        "#get synsets for the word \"dog\"\n",
        "synsets = wordnet.synsets(\"made\")\n",
        "for synset in synsets:\n",
        "    print(synset,\":\",synset.definition())"
      ],
      "metadata": {
        "colab": {
          "base_uri": "https://localhost:8080/"
        },
        "id": "K0TNXv-bH7Jv",
        "outputId": "7e34f347-0d50-407d-ad9e-eb02a65c0eae"
      },
      "execution_count": 2,
      "outputs": [
        {
          "output_type": "stream",
          "name": "stdout",
          "text": [
            "Synset('make.v.01') : engage in\n",
            "Synset('make.v.02') : give certain properties to something\n",
            "Synset('make.v.03') : make or cause to be or to become\n",
            "Synset('induce.v.02') : cause to do; cause to act in a specified manner\n",
            "Synset('cause.v.01') : give rise to; cause to happen or occur, not always intentionally\n",
            "Synset('produce.v.02') : create or manufacture a man-made product\n",
            "Synset('draw.v.04') : make, formulate, or derive in the mind\n",
            "Synset('make.v.08') : compel or make somebody or something to act in a certain way\n",
            "Synset('create.v.05') : create by artistic means\n",
            "Synset('gain.v.08') : earn on some commercial or business transaction; earn as salary or wages\n",
            "Synset('do.v.08') : create or design, often in a certain way\n",
            "Synset('form.v.02') : to compose or represent:\n",
            "Synset('reach.v.07') : reach a goal, e.g.,\n",
            "Synset('make.v.14') : be or be capable of being changed or made into\n",
            "Synset('make.v.15') : make by shaping or bringing together constituents\n",
            "Synset('make.v.16') : perform or carry out\n",
            "Synset('construct.v.01') : make by combining materials and parts\n",
            "Synset('make.v.18') : change from one form into another\n",
            "Synset('make.v.19') : act in a certain way so as to acquire\n",
            "Synset('name.v.03') : charge with a function; charge to be\n",
            "Synset('have.v.17') : achieve a point or goal\n",
            "Synset('reach.v.01') : reach a destination, either real or abstract\n",
            "Synset('lay_down.v.01') : institute, enact, or establish\n",
            "Synset('make.v.24') : carry out or commit\n",
            "Synset('make.v.25') : form by assembling individuals or constituents\n",
            "Synset('hold.v.03') : organize or be responsible for\n",
            "Synset('make.v.27') : put in order or neaten\n",
            "Synset('take.v.27') : head into a specified direction\n",
            "Synset('stool.v.04') : have a bowel movement\n",
            "Synset('make.v.30') : undergo fabrication or creation\n",
            "Synset('make.v.31') : be suitable for\n",
            "Synset('make.v.32') : add up to\n",
            "Synset('make.v.33') : amount to\n",
            "Synset('make.v.34') : constitute the essence of\n",
            "Synset('make.v.35') : appear to begin an activity\n",
            "Synset('make.v.36') : proceed along a path\n",
            "Synset('make.v.37') : reach in time\n",
            "Synset('make.v.38') : gather and light the materials for\n",
            "Synset('cook.v.02') : prepare for eating by applying heat\n",
            "Synset('seduce.v.01') : induce to have sex\n",
            "Synset('make.v.41') : assure the success of\n",
            "Synset('make.v.42') : represent fictitiously, as in a play, or pretend to be or act like\n",
            "Synset('make.v.43') : consider as being\n",
            "Synset('make.v.44') : calculate as being\n",
            "Synset('make.v.45') : cause to be enjoyable or pleasurable\n",
            "Synset('make.v.46') : favor the development of\n",
            "Synset('make.v.47') : develop into\n",
            "Synset('make.v.48') : behave in a certain way\n",
            "Synset('make.v.49') : eliminate urine\n",
            "Synset('made.s.01') : produced by a manufacturing process\n",
            "Synset('made.a.02') : (of a bed) having the sheets and blankets set in order\n",
            "Synset('made.s.03') : successful or assured of success; - Christopher Marlowe\n"
          ]
        }
      ]
    },
    {
      "cell_type": "code",
      "source": [
        "import random\n",
        "\n",
        "grammar_rules={\n",
        "    'S':['NP VP'],\n",
        "    'NP':['Det N','pro'],\n",
        "    'VP':['V NP','V'],\n",
        "    'Det':['the','a'],\n",
        "    'N':['cat','dog','bird','Tiger','lion'],\n",
        "    'pro':['I','You'],\n",
        "    'V':['see','pet']\n",
        "   \n",
        "}\n",
        "\n",
        "def generate_sentence(symbol):\n",
        "    if symbol not in grammar_rules:\n",
        "        return symbol\n",
        "    else:\n",
        "        expansions=grammar_rules[symbol]\n",
        "        expansion=random.choice(expansions)\n",
        "        words=expansion.split()\n",
        "        sentence=''\n",
        "       \n",
        "        for word in words:\n",
        "            sentence += generate_sentence(word)+' '\n",
        "        return sentence.strip()\n",
        "\n",
        "\n",
        "for i in range(5):\n",
        "    sentence=generate_sentence('S')\n",
        "    print(sentence)\n",
        "\n"
      ],
      "metadata": {
        "colab": {
          "base_uri": "https://localhost:8080/"
        },
        "id": "4tSGnoXPIGWm",
        "outputId": "3845e836-08ee-46fc-c6ed-0ba8f48f54e8"
      },
      "execution_count": 8,
      "outputs": [
        {
          "output_type": "stream",
          "name": "stdout",
          "text": [
            "a lion pet\n",
            "I pet\n",
            "I pet a Tiger\n",
            "the dog pet\n",
            "You pet\n"
          ]
        }
      ]
    },
    {
      "cell_type": "code",
      "source": [],
      "metadata": {
        "id": "tHrif28sSrR4"
      },
      "execution_count": null,
      "outputs": []
    },
    {
      "cell_type": "markdown",
      "source": [],
      "metadata": {
        "id": "eWGJFiM5U9cn"
      }
    }
  ]
}